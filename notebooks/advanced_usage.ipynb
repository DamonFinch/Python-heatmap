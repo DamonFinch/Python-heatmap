{
 "cells": [
  {
   "cell_type": "markdown",
   "id": "81539ee6-de86-4077-8fe9-878614b2f0a0",
   "metadata": {},
   "source": [
    "# 1. Import packages"
   ]
  },
  {
   "cell_type": "code",
   "execution_count": 2,
   "id": "57e9d138-6953-4426-83c3-f4682fca20aa",
   "metadata": {},
   "outputs": [],
   "source": [
    "import os,sys\n",
    "%matplotlib inline\n",
    "import matplotlib.pylab as plt\n",
    "import pickle\n",
    "plt.rcParams['figure.dpi'] = 100\n",
    "plt.rcParams['savefig.dpi']=300\n",
    "# sys.path.append(os.path.expanduser(\"~/Projects/Github/PyComplexHeatmap/\"))\n",
    "import PyComplexHeatmap\n",
    "from PyComplexHeatmap import *"
   ]
  },
  {
   "cell_type": "markdown",
   "id": "283bdac3-b683-4e8a-9b76-182ceb8c895f",
   "metadata": {},
   "source": [
    "# 2. Generate dataset"
   ]
  },
  {
   "cell_type": "code",
   "execution_count": 3,
   "id": "8700fb34-aaad-4cc1-8cde-c8b5096178df",
   "metadata": {},
   "outputs": [],
   "source": [
    "#Generate example dataset (random)\n",
    "df = pd.DataFrame(['AAAA1'] * 5 + ['BBBBB2'] * 5, columns=['AB'])\n",
    "df['CD'] = ['C'] * 3 + ['D'] * 3 + ['G'] * 4\n",
    "df['EF'] = ['E'] * 6 + ['F'] * 2 + ['H'] * 2\n",
    "df['F'] = np.random.normal(0, 1, 10)\n",
    "df.index = ['sample' + str(i) for i in range(1, df.shape[0] + 1)]\n",
    "df_box = pd.DataFrame(np.random.randn(10, 4), columns=['Gene' + str(i) for i in range(1, 5)])\n",
    "df_box.index = ['sample' + str(i) for i in range(1, df_box.shape[0] + 1)]\n",
    "df_bar = pd.DataFrame(np.random.uniform(0, 10, (10, 2)), columns=['TMB1', 'TMB2'])\n",
    "df_bar.index = ['sample' + str(i) for i in range(1, df_box.shape[0] + 1)]\n",
    "df_scatter = pd.DataFrame(np.random.uniform(0, 10, 10), columns=['Scatter'])\n",
    "df_scatter.index = ['sample' + str(i) for i in range(1, df_box.shape[0] + 1)]\n",
    "df_heatmap = pd.DataFrame(np.random.randn(30, 10), columns=['sample' + str(i) for i in range(1, 11)])\n",
    "df_heatmap.index = [\"Fea\" + str(i) for i in range(1, df_heatmap.shape[0] + 1)]\n",
    "df_heatmap.iloc[1, 2] = np.nan"
   ]
  },
  {
   "cell_type": "markdown",
   "id": "b09775a9-e62d-4bda-a30a-d9e67a0abd8b",
   "metadata": {},
   "source": [
    "# 3. Test the row / col orders & add selected rows labels"
   ]
  },
  {
   "cell_type": "code",
   "execution_count": null,
   "id": "3805be5c-084f-41f4-9a6c-215e7b04e487",
   "metadata": {},
   "outputs": [
    {
     "name": "stdout",
     "output_type": "stream",
     "text": [
      "              AB CD EF         F\n",
      "sample1   AAAA1   C  E -0.011090\n",
      "sample2   AAAA1   C  E  0.158643\n",
      "sample3   AAAA1   C  E -1.711956\n",
      "sample4   AAAA1   D  E -0.315760\n",
      "sample5   AAAA1   D  E -0.295995\n",
      "sample6   BBBBB2  D  E -0.474847\n",
      "sample7   BBBBB2  G  F -0.169558\n",
      "sample8   BBBBB2  G  F -0.111920\n",
      "sample9   BBBBB2  G  H  1.404063\n",
      "sample10  BBBBB2  G  H  0.465916\n",
      "        sample1   sample2   sample3   sample4   sample5   sample6   sample7  \\\n",
      "Fea1  -0.063558  1.366660  0.419709  3.128838  0.471906 -1.208486 -1.429586   \n",
      "Fea2  -0.672241  2.204064 NaN        0.769370  1.239907 -0.816566  0.683552   \n",
      "Fea3   0.017495  0.985390  2.347377 -0.989584 -0.649136 -0.636429 -0.183624   \n",
      "Fea4  -0.355045 -0.094844 -0.474272  3.190712  0.690046  0.116202  0.425165   \n",
      "Fea5  -2.739543 -0.521491 -0.548863 -0.401527  2.229947  1.582845 -1.438853   \n",
      "...         ...       ...       ...       ...       ...       ...       ...   \n",
      "Fea26  0.148142  0.431385 -1.786503  0.202025 -0.180794 -0.068036  0.942051   \n",
      "Fea27 -0.657895  0.605960  1.067076  0.745234 -0.359363 -0.664680  0.832800   \n",
      "Fea28  1.636141  0.732991  0.424469  1.697327 -2.512941 -0.404405  0.233887   \n",
      "Fea29  1.168321 -0.274400  0.479372  0.730587 -0.088833  0.011520 -0.689892   \n",
      "Fea30 -0.752778  0.008826 -0.106325 -0.192753  0.825514  1.459696  1.168714   \n",
      "\n",
      "        sample8   sample9  sample10  \n",
      "Fea1   1.542711  0.818541  1.629407  \n",
      "Fea2  -1.013682  0.254386 -0.948207  \n",
      "Fea3   0.071836 -0.087123  0.413889  \n",
      "Fea4  -0.478429  0.891001  0.593681  \n",
      "Fea5  -1.356019 -1.224752 -0.012962  \n",
      "...         ...       ...       ...  \n",
      "Fea26 -0.839609 -0.857766  0.475386  \n",
      "Fea27  0.183597 -0.908066 -0.840685  \n",
      "Fea28 -0.005063 -2.708072 -2.812170  \n",
      "Fea29  0.439988 -1.765734  1.165729  \n",
      "Fea30  1.169983  0.443184  0.349862  \n",
      "\n",
      "[30 rows x 10 columns]\n"
     ]
    }
   ],
   "source": [
    "#Annotate the rows with average > 0.3\n",
    "df_rows = df_heatmap.apply(lambda x:x.name if x.sample4 > 0.5 else None,axis=1)\n",
    "df_rows=df_rows.to_frame(name='Selected')\n",
    "df_rows['XY']=df_rows.index.to_series().apply(lambda x:'A' if int(x.replace('Fea',''))>=15 else 'B')\n",
    "\n",
    "row_ha = HeatmapAnnotation(S4=anno_simple(df_heatmap.sample4.apply(lambda x:round(x,2)),\n",
    "                                           add_text=True,height=10,\n",
    "                                           text_kws={'rotation':0,'fontsize':10,'color':'black'}),\n",
    "                           # Scatter=anno_scatterplot(df_heatmap.sample4.apply(lambda x:round(x,2)),\n",
    "                           #                  height=10),\n",
    "                           Test=anno_barplot(df_heatmap.sample4.apply(lambda x:round(x,2)),\n",
    "                                            height=18,cmap='rainbow'),\n",
    "                           selected=anno_label(df_rows,colors='red'),\n",
    "                           axis=0,verbose=0,label_kws={'rotation':0,'horizontalalignment':'left','verticalalignment':'bottom'})\n",
    "\n",
    "col_ha = HeatmapAnnotation(label=anno_label(df.AB, merge=True,rotation=15),\n",
    "                           AB=anno_simple(df.AB,add_text=True),axis=1,\n",
    "                           CD=anno_simple(df.CD,add_text=True),\n",
    "                           EF=anno_simple(df.EF,add_text=True,\n",
    "                                            legend_kws={'frameon':False}),\n",
    "                           Exp=anno_boxplot(df_box, cmap='turbo'),\n",
    "                           verbose=0) #verbose=0 will turn off the log.\n",
    "\n",
    "print(df)\n",
    "print(df_heatmap)\n",
    "plt.figure(figsize=(6, 8))\n",
    "cm = ClusterMapPlotter(data=df_heatmap, top_annotation=col_ha,right_annotation=row_ha,\n",
    "                       col_split=df.AB,row_split=df_rows.XY, col_split_gap=0.5,row_split_gap=1,\n",
    "                       col_cluster=False,row_cluster=False,\n",
    "                       label='values',row_dendrogram=False,show_rownames=True,show_colnames=True,\n",
    "                         tree_kws={'row_cmap': 'Set1'},verbose=0,legend_gap=7,\n",
    "                       annot=True,linewidths=0.05,linecolor='gold',cmap='turbo',\n",
    "                      xticklabels_kws={'labelrotation':-45,'labelcolor':'blue'})\n",
    "plt.show()\n",
    "print(cm.row_order)\n",
    "print(cm.col_order)"
   ]
  },
  {
   "cell_type": "markdown",
   "id": "bb37f574-0999-41c5-add2-7188a91d36fa",
   "metadata": {},
   "source": [
    "# 4. Annotations"
   ]
  },
  {
   "cell_type": "code",
   "execution_count": null,
   "id": "9c7470f0-dc4d-420a-a942-4bbcd77b2d04",
   "metadata": {},
   "outputs": [],
   "source": [
    "df = pd.DataFrame(['AAAA1'] * 5 + ['BBBBB2'] * 5, columns=['AB'])\n",
    "df['CD'] = ['C'] * 3 + ['D'] * 3 + ['G'] * 4\n",
    "df['F'] = np.random.normal(0, 1, 10)\n",
    "df.index = ['sample' + str(i) for i in range(1, df.shape[0] + 1)]\n",
    "df_box = pd.DataFrame(np.random.randn(10, 4), columns=['Gene' + str(i) for i in range(1, 5)])\n",
    "df_box.index = ['sample' + str(i) for i in range(1, df_box.shape[0] + 1)]\n",
    "df_bar = pd.DataFrame(np.random.uniform(0, 10, (10, 2)), columns=['TMB1', 'TMB2'])\n",
    "df_bar.index = ['sample' + str(i) for i in range(1, df_box.shape[0] + 1)]\n",
    "df_scatter = pd.DataFrame(np.random.uniform(0, 10, 10), columns=['Scatter'])\n",
    "df_scatter.index = ['sample' + str(i) for i in range(1, df_box.shape[0] + 1)]\n",
    "df_bar1 = pd.DataFrame(np.random.uniform(0, 10, (10, 2)), columns=['T1-A', 'T1-B'])\n",
    "df_bar1.index = ['sample' + str(i) for i in range(1, df_box.shape[0] + 1)]\n",
    "df_bar2 = pd.DataFrame(np.random.uniform(0, 10, (10, 2)), columns=['T2-A', 'T2-B'])\n",
    "df_bar2.index = ['sample' + str(i) for i in range(1, df_box.shape[0] + 1)]\n",
    "df_bar3 = pd.DataFrame(np.random.uniform(0, 10, (10, 2)), columns=['T3-A', 'T3-B'])\n",
    "df_bar3.index = ['sample' + str(i) for i in range(1, df_box.shape[0] + 1)]\n",
    "df_bar3.iloc[5,0]=np.nan\n",
    "df_bar4 = pd.DataFrame(np.random.uniform(0, 10, (10, 1)), columns=['T4'])\n",
    "df_bar4.index = ['sample' + str(i) for i in range(1, df_box.shape[0] + 1)]\n",
    "df_bar4.iloc[7,0]=np.nan\n",
    "print(df)\n",
    "print(df_box)\n",
    "print(df_scatter)\n",
    "print(df_bar)\n",
    "print(df_bar1)\n",
    "print(df_bar2)\n",
    "print(df_bar3)\n",
    "print(df_bar4)"
   ]
  },
  {
   "cell_type": "code",
   "execution_count": null,
   "id": "c5319c6f-e205-4864-8a75-35f7ecaafa0c",
   "metadata": {},
   "outputs": [],
   "source": [
    "plt.figure(figsize=(4, 8))\n",
    "col_ha = HeatmapAnnotation(label=anno_label(df.AB, merge=True,rotation=15),\n",
    "                            AB=anno_simple(df.AB,add_text=True,legend=True), axis=1,\n",
    "                            CD=anno_simple(df.CD, add_text=True,legend=True,text_kws={'color':'black'}),\n",
    "                            Exp=anno_boxplot(df_box, cmap='turbo',legend=True),\n",
    "                            Scatter=anno_scatterplot(df_scatter), \n",
    "                           TMB_bar=anno_barplot(df_bar,legend=True,cmap='Set1'),\n",
    "                           Bar1=anno_barplot(df_bar1,legend=True,cmap='Dark2'),\n",
    "                           Bar4=anno_barplot(df_bar4,legend=True,cmap='turbo'),\n",
    "                           Bar2=anno_barplot(df_bar2,legend=True,cmap='tab10'),\n",
    "                           Bar3=anno_barplot(df_bar3,legend=True,cmap='Paired'),\n",
    "                           plot=True,legend=True,legend_gap=3,hspace=0.15)\n",
    "col_ha.show_ticklabels(df.index.tolist(),fontdict={'color':'blue'},rotation=-30)\n",
    "plt.show()"
   ]
  },
  {
   "cell_type": "markdown",
   "id": "75e91306-171b-4fe1-9aa5-8c81fd5fe65f",
   "metadata": {},
   "source": [
    "## Change orentation up to down and add extra space"
   ]
  },
  {
   "cell_type": "code",
   "execution_count": null,
   "id": "a206e9e0-c73e-422b-bbee-7118d4be8e46",
   "metadata": {},
   "outputs": [],
   "source": [
    "plt.figure(figsize=(4, 8))\n",
    "row_ha = HeatmapAnnotation(\n",
    "                           TMB_bar=anno_barplot(df_bar,legend=True,cmap='Set1'),\n",
    "                           Bar1=anno_barplot(df_bar1,legend=True,cmap='Dark2'),\n",
    "                           Bar4=anno_barplot(df_bar4,legend=True,cmap='turbo'),\n",
    "                           Bar2=anno_barplot(df_bar2,legend=True,cmap='tab10'),\n",
    "                           Bar3=anno_barplot(df_bar3,legend=True,cmap='Paired'),\n",
    "                            Scatter=anno_scatterplot(df_scatter), \n",
    "                            Exp=anno_boxplot(df_box, cmap='turbo',legend=True),\n",
    "                            CD=anno_simple(df.CD, colors={'C': 'red', 'D': 'gray', 'G': 'yellow'},\n",
    "                                           add_text=True,legend=True,text_kws={'color':'black'}),\n",
    "                            AB=anno_simple(df.AB,add_text=True,legend=True),\n",
    "                            label=anno_label(df.AB, merge=True,rotation=-15),\n",
    "                           plot=True,plot_legend=False,legend_hpad=13,axis=1,hspace=0.3\n",
    "                            )\n",
    "row_ha.show_ticklabels(df.index.tolist(),fontdict={'color':'blue'},rotation=30)\n",
    "plt.show()\n",
    "# Here, we can use hspace (when axis=1) or wspace (when axis=0) to control the widh of height space between different annotations."
   ]
  },
  {
   "cell_type": "markdown",
   "id": "41b8bd60-2e1f-42d6-b26f-c3d159fd6cb6",
   "metadata": {},
   "source": [
    "## Change orentation to the left"
   ]
  },
  {
   "cell_type": "code",
   "execution_count": null,
   "id": "b32b46d1-2efc-4d71-beee-8625888e6819",
   "metadata": {},
   "outputs": [],
   "source": [
    "plt.figure(figsize=(8, 4))\n",
    "row_ha = HeatmapAnnotation(label=anno_label(df.AB, merge=True,rotation=15),\n",
    "                            AB=anno_simple(df.AB,add_text=True,legend=True),\n",
    "                            CD=anno_simple(df.CD,add_text=True,legend=True),\n",
    "                            Exp=anno_boxplot(df_box, cmap='turbo',legend=True),\n",
    "                            Scatter=anno_scatterplot(df_scatter), \n",
    "                           TMB_bar=anno_barplot(df_bar,legend=True,cmap='Set1'),\n",
    "                           Bar1=anno_barplot(df_bar1,legend=True,cmap='Dark2'),\n",
    "                           Bar4=anno_barplot(df_bar4,legend=True,cmap='turbo'),\n",
    "                           Bar2=anno_barplot(df_bar2,legend=True,cmap='tab10'),\n",
    "                           Bar3=anno_barplot(df_bar3,legend=True,cmap='Paired'),\n",
    "                           plot=True,legend=True,legend_gap=5,\n",
    "                           axis=0,wspace=0.1,legend_hpad=20\n",
    "                            )\n",
    "row_ha.show_ticklabels(df.index.tolist(),fontdict={'color':'blue'},rotation=0)\n",
    "plt.show()"
   ]
  },
  {
   "cell_type": "markdown",
   "id": "5cb5dc52-ca12-47ed-928a-935af9fff12d",
   "metadata": {},
   "source": [
    "## Change orentation to the right"
   ]
  },
  {
   "cell_type": "code",
   "execution_count": null,
   "id": "a282e0bb-98e2-4f54-b6a1-bab69d02472e",
   "metadata": {},
   "outputs": [],
   "source": [
    "plt.figure(figsize=(8, 4))\n",
    "row_ha = HeatmapAnnotation(\n",
    "                           TMB_bar=anno_barplot(df_bar,legend=True,cmap='Set1'),\n",
    "                           Bar1=anno_barplot(df_bar1,legend=True,cmap='Dark2'),\n",
    "                           Bar4=anno_barplot(df_bar4,legend=True,cmap='turbo'),\n",
    "                           Bar2=anno_barplot(df_bar2,legend=True,cmap='tab10'),\n",
    "                           Bar3=anno_barplot(df_bar3,legend=True,cmap='Paired'),\n",
    "                            Scatter=anno_scatterplot(df_scatter), \n",
    "                            Exp=anno_boxplot(df_box, cmap='turbo',legend=True),\n",
    "                            CD=anno_simple(df.CD, colors={'C': 'red', 'D': 'gray', 'G': 'green'},\n",
    "                                           add_text=True,legend=True,text_kws={'rotation':-90}),\n",
    "                            AB=anno_simple(df.AB,add_text=True,legend=True,text_kws={'rotation':-90,'color':'black'}),\n",
    "                            label=anno_label(df.AB, merge=True,rotation=15),\n",
    "                           plot=True,legend=True,legend_hpad=13,legend_gap=5,axis=0\n",
    "                            )\n",
    "row_ha.show_ticklabels(df.index.tolist(),fontdict={'color':'black'},rotation=0)\n",
    "plt.show()"
   ]
  },
  {
   "cell_type": "markdown",
   "id": "c6b9d2d7-1397-4866-a614-4b580aba473d",
   "metadata": {},
   "source": [
    "## Changing orientation using parameter `orientation` \n",
    "By Default, if there is no `anno_label` in the annotation, the oriention would be `right` for `axis=0` and `up` for `axis=1`."
   ]
  },
  {
   "cell_type": "code",
   "execution_count": null,
   "id": "1ac19a64-4b28-425d-be1e-bac8a22d677f",
   "metadata": {},
   "outputs": [],
   "source": [
    "plt.figure(figsize=(8, 4))\n",
    "col_ha = HeatmapAnnotation(\n",
    "                            AB=anno_simple(df.AB,add_text=True,legend=True),\n",
    "                            CD=anno_simple(df.CD,add_text=True,legend=True),\n",
    "                            Exp=anno_boxplot(df_box, cmap='turbo',legend=True),\n",
    "                            Scatter=anno_scatterplot(df_scatter), \n",
    "                           TMB_bar=anno_barplot(df_bar,legend=True,cmap='Set1'),\n",
    "                           Bar1=anno_barplot(df_bar1,legend=True,cmap='Dark2'),\n",
    "                           Bar4=anno_barplot(df_bar4,legend=True,cmap='turbo'),\n",
    "                           Bar2=anno_barplot(df_bar2,legend=True,cmap='tab10'),\n",
    "                           Bar3=anno_barplot(df_bar3,legend=True,cmap='Paired'),\n",
    "                           plot=True,legend=True,axis=0,\n",
    "                            legend_gap=5,orientation='left',\n",
    "                            )\n",
    "plt.show()"
   ]
  },
  {
   "cell_type": "code",
   "execution_count": null,
   "id": "2e290560-8f78-4524-a961-5723d4983254",
   "metadata": {},
   "outputs": [],
   "source": []
  }
 ],
 "metadata": {
  "kernelspec": {
   "display_name": "Python 3 (ipykernel)",
   "language": "python",
   "name": "python3"
  },
  "language_info": {
   "codemirror_mode": {
    "name": "ipython",
    "version": 3
   },
   "file_extension": ".py",
   "mimetype": "text/x-python",
   "name": "python",
   "nbconvert_exporter": "python",
   "pygments_lexer": "ipython3",
   "version": "3.8.12"
  }
 },
 "nbformat": 4,
 "nbformat_minor": 5
}
